{
 "cells": [
  {
   "cell_type": "markdown",
   "metadata": {},
   "source": [
    "### Lab 2: General Concepts"
   ]
  },
  {
   "cell_type": "markdown",
   "metadata": {},
   "source": [
    "In today's lab, we will work with data on cars sold at auction (Carvana Car Prediction). The target feature here is the presence of significant drawbacks hidden by the seller.\n",
    "\n",
    "Carvana is a car reseller company, so its task is to prevent the purchase of cars with hidden drawbacks, since they are later harder to sell"
   ]
  },
  {
   "cell_type": "markdown",
   "metadata": {},
   "source": [
    "## 1"
   ]
  },
  {
   "cell_type": "markdown",
   "metadata": {},
   "source": [
    "Upload data about cars sold at auction. Look at the \"raw\" data.\n",
    "\n",
    "View the file `DataDictionary-ru.txt` and understand what the columns of the matrix mean. Output statistics by column."
   ]
  },
  {
   "cell_type": "code",
   "execution_count": null,
   "metadata": {},
   "outputs": [],
   "source": [
    "import pandas as pd"
   ]
  },
  {
   "cell_type": "code",
   "execution_count": null,
   "metadata": {},
   "outputs": [],
   "source": [
    "# place for code\n"
   ]
  },
  {
   "cell_type": "markdown",
   "metadata": {},
   "source": [
    "## 2\n",
    "\n",
    "Plot a scatter plot with `VehOdo` as the abscissa axis and the `MMRCurrentRetailAveragePrice` price as the ordinate axis. Mark vehicles with no drawbacks in green, and those with hidden drawbacks in red."
   ]
  },
  {
   "cell_type": "code",
   "execution_count": null,
   "metadata": {},
   "outputs": [],
   "source": [
    "%matplotlib inline\n",
    "import matplotlib.pyplot as plt"
   ]
  },
  {
   "cell_type": "code",
   "execution_count": null,
   "metadata": {},
   "outputs": [],
   "source": [
    "# place for code\n"
   ]
  },
  {
   "cell_type": "markdown",
   "metadata": {},
   "source": [
    "# Regression"
   ]
  },
  {
   "cell_type": "markdown",
   "metadata": {},
   "source": [
    "## 3a\n",
    "\n",
    "Import all machine learning models from the 'sklearn' library:\n",
    "\n",
    "`from sklearn import *`\n",
    "\n",
    "Treating the problem of predicting the presence of drawbacks as a regression problem, train a linear model [`LinearRegression`](https://scikit-learn.org/stable/modules/generated/sklearn.linear_model.LinearRegression.html) on some subset of attributes (for example, `VehOdo` and `MMRCurrentRetailAveragePrice`).\n",
    "\n",
    "What problem did you encounter? What solutions can you offer?\n",
    "\n",
    "*Functions that can be useful:`.fit (), .loc[], pd.notnull()`*\n",
    "\n",
    "*Creating a model:* `model1 = linear_model.LinearRegression()`\n",
    "\n",
    "*Training:*\n",
    "`model1.fit(x, y)`"
   ]
  },
  {
   "cell_type": "code",
   "execution_count": null,
   "metadata": {},
   "outputs": [],
   "source": [
    "# place for code\n"
   ]
  },
  {
   "cell_type": "markdown",
   "metadata": {},
   "source": [
    "## 3b\n",
    "\n",
    "Make a prediction for all objects in the training sample and assign the result to the prediction variable\n",
    "\n",
    "*Functions that may be useful: `model.predict()`*"
   ]
  },
  {
   "cell_type": "code",
   "execution_count": null,
   "metadata": {},
   "outputs": [],
   "source": [
    "# place for code\n"
   ]
  },
  {
   "cell_type": "markdown",
   "metadata": {},
   "source": [
    "## 3c\n",
    "\n",
    "Convert the resulting prediction vector `prediction` to the values `{0,1}`. This can be done, for example, using list comprehensions: https://docs.python.org/3/tutorial/datastructures.html#list-comprehensions \n",
    "\n",
    "`predictionClass = [1 if prediction[i] > 0.5 else 0 for i in range(prediction.shape[0])]`"
   ]
  },
  {
   "cell_type": "code",
   "execution_count": null,
   "metadata": {},
   "outputs": [],
   "source": [
    "# place for code\n"
   ]
  },
  {
   "cell_type": "markdown",
   "metadata": {},
   "source": [
    "## 3d\n",
    "\n",
    "Build a classification quality report and an error matrix. How will the report and error matrix change if you change the threshold in task 3c (the default value is 0.5)?\n",
    "\n",
    "*Functions that can be useful: `print(metrics.classification_report(...))`, `print(metrics.confusion_matrix(...))`*\n",
    "\n",
    "The `classification_report` function calculates precision and recall for each class. Recall is the percentage of objects of this class that your prediction method also assigned to this class, among all objects of this class. Precision is the same, but only among all objects predicted for this class.\n",
    "\n",
    "The `confusion_matrix` function returns a matrix with the number of objects. The columns of the matrix correspond to *predicted* classes, and the rows - to the *correct* classes. For example, the element M[0,1] is the number of machines, where in fact IsBadBuy = 0, and you predicted 1."
   ]
  },
  {
   "cell_type": "code",
   "execution_count": null,
   "metadata": {},
   "outputs": [],
   "source": [
    "# place for code\n"
   ]
  },
  {
   "cell_type": "markdown",
   "metadata": {},
   "source": [
    "# Classification\n",
    "\n",
    "## 4a\n",
    "Treating the problem as a classification problem, build a classification model \"decision tree\" of depth 20 (everything is similar to linear regression).\n",
    "\n",
    "\n",
    "*Functions that can be useful: `tree.DecisionTreeClassifier(max_depth=20) `*"
   ]
  },
  {
   "cell_type": "code",
   "execution_count": null,
   "metadata": {},
   "outputs": [],
   "source": [
    "# place for code\n"
   ]
  },
  {
   "cell_type": "markdown",
   "metadata": {},
   "source": [
    "## 4b\n",
    "\n",
    "The decision tree predicts probabilities. Use the built model to calculate the probability of hidden drawbacks.\n",
    "\n",
    "*Functions that can be useful: `model.predict_proba() `*"
   ]
  },
  {
   "cell_type": "code",
   "execution_count": null,
   "metadata": {},
   "outputs": [],
   "source": [
    "# place for code\n",
    "probabilities = "
   ]
  },
  {
   "cell_type": "markdown",
   "metadata": {},
   "source": [
    "## 4c\n",
    "\n",
    "Convert the resulting probability matrix `probabilities` to the values `{0,1}`. Build a classification report and error matrix. Which method was better?"
   ]
  },
  {
   "cell_type": "code",
   "execution_count": null,
   "metadata": {},
   "outputs": [],
   "source": [
    "# place for code\n"
   ]
  },
  {
   "cell_type": "markdown",
   "metadata": {},
   "source": [
    "# Cross-validation\n",
    "## 5a\n",
    "\n",
    "\n",
    "Divide the original sample into two parts, for example, using [slices](https://pythonz.net/references/named/slice/):\n",
    "\n",
    "`dataTrain = data.loc[0:34999,]\n",
    "dataTest = data.loc[35000:69999,]`"
   ]
  },
  {
   "cell_type": "code",
   "execution_count": null,
   "metadata": {},
   "outputs": [],
   "source": [
    "# place for code\n"
   ]
  },
  {
   "cell_type": "markdown",
   "metadata": {},
   "source": [
    "## 5b\n",
    "\n",
    "Train the decision tree on `dataTrain` and apply it to `dataTrain` and `dataTest`, calculating the prediction accuracy for each case. \n",
    "\n",
    "Perform several experiments for different tree depths. Write in the comments for which depths the model is under-trained, for which it is over-trained, and where the early stopping point is.\n",
    "\n",
    "*Functions that can be useful: `metrics.accuracy_score() `*"
   ]
  },
  {
   "cell_type": "code",
   "execution_count": null,
   "metadata": {},
   "outputs": [],
   "source": [
    "# place for code\n"
   ]
  },
  {
   "cell_type": "markdown",
   "metadata": {},
   "source": [
    "# Decision function\n",
    "## 6a\n",
    "\n",
    "Let's return to the model of the decision tree of depth 20, built over the entire training sample `data`. Let the price of the error of incorrect prediction 0 be 1000, and the price of incorrect prediction 1 be 100.\n",
    "\n",
    "Calculate the loss function - the average error for the entire training sample."
   ]
  },
  {
   "cell_type": "code",
   "execution_count": null,
   "metadata": {},
   "outputs": [],
   "source": [
    "# place for code\n"
   ]
  },
  {
   "cell_type": "markdown",
   "metadata": {},
   "source": [
    "## 6b\n",
    "\n",
    "Find out how to change the decision function `[0 if predictionProb[i][0] > 0.5 else 1 for i in range(prediction.shape[0])]` so that the total loss be minimal?\n",
    "\n",
    "Find the optimal decision function and the minimum value of the total loss using the brute force method or using the formula from lecture 2 (slide Decision function).\n",
    "\n"
   ]
  },
  {
   "cell_type": "code",
   "execution_count": null,
   "metadata": {},
   "outputs": [],
   "source": [
    "# place for code\n"
   ]
  }
 ],
 "metadata": {
  "kernelspec": {
   "display_name": "Python 3",
   "language": "python",
   "name": "python3"
  },
  "language_info": {
   "codemirror_mode": {
    "name": "ipython",
    "version": 3
   },
   "file_extension": ".py",
   "mimetype": "text/x-python",
   "name": "python",
   "nbconvert_exporter": "python",
   "pygments_lexer": "ipython3",
   "version": "3.7.6"
  }
 },
 "nbformat": 4,
 "nbformat_minor": 2
}
